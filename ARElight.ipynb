{
  "nbformat": 4,
  "nbformat_minor": 0,
  "metadata": {
    "colab": {
      "provenance": [],
      "gpuType": "T4",
      "authorship_tag": "ABX9TyNVnsVATOtSxyxVAPRy20kH",
      "include_colab_link": true
    },
    "kernelspec": {
      "name": "python3",
      "display_name": "Python 3"
    },
    "language_info": {
      "name": "python"
    },
    "accelerator": "GPU"
  },
  "cells": [
    {
      "cell_type": "markdown",
      "metadata": {
        "id": "view-in-github",
        "colab_type": "text"
      },
      "source": [
        "<a href=\"https://colab.research.google.com/github/nicolay-r/ARElight/blob/v0.24.0/ARElight.ipynb\" target=\"_parent\"><img src=\"https://colab.research.google.com/assets/colab-badge.svg\" alt=\"Open In Colab\"/></a>"
      ]
    },
    {
      "cell_type": "markdown",
      "source": [
        "> **Important:** Due to MPS conflict there is a need to uninstall `torchaudio` and other dependencies"
      ],
      "metadata": {
        "id": "nfhxano93Nti"
      }
    },
    {
      "cell_type": "code",
      "source": [
        "pip uninstall -y torchvision torchsummary torchtext torchdata"
      ],
      "metadata": {
        "id": "2L-1Gjs63Kga",
        "colab": {
          "base_uri": "https://localhost:8080/"
        },
        "outputId": "4ce0bf63-c2f6-42ef-c636-4bebaf920c36"
      },
      "execution_count": null,
      "outputs": [
        {
          "output_type": "stream",
          "name": "stdout",
          "text": [
            "Found existing installation: torchvision 0.16.0+cu118\n",
            "Uninstalling torchvision-0.16.0+cu118:\n",
            "  Successfully uninstalled torchvision-0.16.0+cu118\n",
            "Found existing installation: torchsummary 1.5.1\n",
            "Uninstalling torchsummary-1.5.1:\n",
            "  Successfully uninstalled torchsummary-1.5.1\n",
            "Found existing installation: torchtext 0.16.0\n",
            "Uninstalling torchtext-0.16.0:\n",
            "  Successfully uninstalled torchtext-0.16.0\n",
            "Found existing installation: torchdata 0.7.0\n",
            "Uninstalling torchdata-0.7.0:\n",
            "  Successfully uninstalled torchdata-0.7.0\n"
          ]
        }
      ]
    },
    {
      "cell_type": "code",
      "execution_count": null,
      "metadata": {
        "id": "o42wfXv2Vc4J",
        "colab": {
          "base_uri": "https://localhost:8080/"
        },
        "outputId": "7aafcf61-9ee8-4141-e170-a10d24916a2e"
      },
      "outputs": [
        {
          "output_type": "stream",
          "name": "stdout",
          "text": [
            "Collecting git+https://github.com/nicolay-r/arelight@v0.24.0\n",
            "  Cloning https://github.com/nicolay-r/arelight (to revision v0.24.0) to /tmp/pip-req-build-0nlqkt2j\n",
            "  Running command git clone --filter=blob:none --quiet https://github.com/nicolay-r/arelight /tmp/pip-req-build-0nlqkt2j\n",
            "  Running command git checkout -b v0.24.0 --track origin/v0.24.0\n",
            "  Switched to a new branch 'v0.24.0'\n",
            "  Branch 'v0.24.0' set up to track remote branch 'v0.24.0' from 'origin'.\n",
            "  Resolved https://github.com/nicolay-r/arelight to commit 5c17535f643a5bb2e61938556c92b555883e3b51\n",
            "  Preparing metadata (setup.py) ... \u001b[?25l\u001b[?25hdone\n",
            "Collecting open-nre@ git+https://github.com/thunlp/OpenNRE@53b6c9400775ab066dc4f462e81ce05ea2b128e7 (from arelight==0.24.0)\n",
            "  Using cached open_nre-0.1.1-py3-none-any.whl\n",
            "Requirement already satisfied: deeppavlov==1.3.0 in /usr/local/lib/python3.10/dist-packages (from arelight==0.24.0) (1.3.0)\n",
            "Requirement already satisfied: transformers==4.24.0 in /usr/local/lib/python3.10/dist-packages (from arelight==0.24.0) (4.24.0)\n",
            "Requirement already satisfied: torch==2.0.1 in /usr/local/lib/python3.10/dist-packages (from arelight==0.24.0) (2.0.1)\n",
            "Requirement already satisfied: pytorch-crf==0.7.2 in /usr/local/lib/python3.10/dist-packages (from arelight==0.24.0) (0.7.2)\n",
            "Requirement already satisfied: arekit==0.24.0 in /usr/local/lib/python3.10/dist-packages (from arelight==0.24.0) (0.24.0)\n",
            "Requirement already satisfied: nltk==3.8.1 in /usr/local/lib/python3.10/dist-packages (from arelight==0.24.0) (3.8.1)\n",
            "Requirement already satisfied: googletrans==3.1.0a0 in /usr/local/lib/python3.10/dist-packages (from arelight==0.24.0) (3.1.0a0)\n",
            "Requirement already satisfied: tqdm in /usr/local/lib/python3.10/dist-packages (from arekit==0.24.0->arelight==0.24.0) (4.64.1)\n",
            "Requirement already satisfied: enum34==1.1.10 in /usr/local/lib/python3.10/dist-packages (from arekit==0.24.0->arelight==0.24.0) (1.1.10)\n",
            "Requirement already satisfied: numpy>=1.14.5 in /usr/local/lib/python3.10/dist-packages (from arekit==0.24.0->arelight==0.24.0) (1.23.5)\n",
            "Requirement already satisfied: pymystem3==0.2.0 in /usr/local/lib/python3.10/dist-packages (from arekit==0.24.0->arelight==0.24.0) (0.2.0)\n",
            "Requirement already satisfied: fastapi<=0.89.1,>=0.47.0 in /usr/local/lib/python3.10/dist-packages (from deeppavlov==1.3.0->arelight==0.24.0) (0.89.1)\n",
            "Requirement already satisfied: filelock<3.10.0,>=3.0.0 in /usr/local/lib/python3.10/dist-packages (from deeppavlov==1.3.0->arelight==0.24.0) (3.9.1)\n",
            "Requirement already satisfied: pandas<1.6.0,>=1.0.0 in /usr/local/lib/python3.10/dist-packages (from deeppavlov==1.3.0->arelight==0.24.0) (1.5.3)\n",
            "Requirement already satisfied: prometheus-client<=1.16.0,>=0.13.0 in /usr/local/lib/python3.10/dist-packages (from deeppavlov==1.3.0->arelight==0.24.0) (0.18.0)\n",
            "Requirement already satisfied: pydantic in /usr/local/lib/python3.10/dist-packages (from deeppavlov==1.3.0->arelight==0.24.0) (1.10.13)\n",
            "Requirement already satisfied: pybind11==2.10.3 in /usr/local/lib/python3.10/dist-packages (from deeppavlov==1.3.0->arelight==0.24.0) (2.10.3)\n",
            "Requirement already satisfied: requests<3.0.0,>=2.19.0 in /usr/local/lib/python3.10/dist-packages (from deeppavlov==1.3.0->arelight==0.24.0) (2.31.0)\n",
            "Requirement already satisfied: scikit-learn<1.1.0,>=0.24 in /usr/local/lib/python3.10/dist-packages (from deeppavlov==1.3.0->arelight==0.24.0) (1.0.2)\n",
            "Requirement already satisfied: scipy<1.10.0 in /usr/local/lib/python3.10/dist-packages (from deeppavlov==1.3.0->arelight==0.24.0) (1.9.3)\n",
            "Requirement already satisfied: uvicorn<0.19.0,>=0.13.0 in /usr/local/lib/python3.10/dist-packages (from deeppavlov==1.3.0->arelight==0.24.0) (0.18.3)\n",
            "Requirement already satisfied: wheel in /usr/local/lib/python3.10/dist-packages (from deeppavlov==1.3.0->arelight==0.24.0) (0.41.3)\n",
            "Requirement already satisfied: httpx==0.13.3 in /usr/local/lib/python3.10/dist-packages (from googletrans==3.1.0a0->arelight==0.24.0) (0.13.3)\n",
            "Requirement already satisfied: click in /usr/local/lib/python3.10/dist-packages (from nltk==3.8.1->arelight==0.24.0) (8.1.7)\n",
            "Requirement already satisfied: joblib in /usr/local/lib/python3.10/dist-packages (from nltk==3.8.1->arelight==0.24.0) (1.3.2)\n",
            "Requirement already satisfied: regex>=2021.8.3 in /usr/local/lib/python3.10/dist-packages (from nltk==3.8.1->arelight==0.24.0) (2023.6.3)\n",
            "Requirement already satisfied: typing-extensions in /usr/local/lib/python3.10/dist-packages (from torch==2.0.1->arelight==0.24.0) (4.5.0)\n",
            "Requirement already satisfied: sympy in /usr/local/lib/python3.10/dist-packages (from torch==2.0.1->arelight==0.24.0) (1.12)\n",
            "Requirement already satisfied: networkx in /usr/local/lib/python3.10/dist-packages (from torch==2.0.1->arelight==0.24.0) (3.2.1)\n",
            "Requirement already satisfied: jinja2 in /usr/local/lib/python3.10/dist-packages (from torch==2.0.1->arelight==0.24.0) (3.1.2)\n",
            "Requirement already satisfied: nvidia-cuda-nvrtc-cu11==11.7.99 in /usr/local/lib/python3.10/dist-packages (from torch==2.0.1->arelight==0.24.0) (11.7.99)\n",
            "Requirement already satisfied: nvidia-cuda-runtime-cu11==11.7.99 in /usr/local/lib/python3.10/dist-packages (from torch==2.0.1->arelight==0.24.0) (11.7.99)\n",
            "Requirement already satisfied: nvidia-cuda-cupti-cu11==11.7.101 in /usr/local/lib/python3.10/dist-packages (from torch==2.0.1->arelight==0.24.0) (11.7.101)\n",
            "Requirement already satisfied: nvidia-cudnn-cu11==8.5.0.96 in /usr/local/lib/python3.10/dist-packages (from torch==2.0.1->arelight==0.24.0) (8.5.0.96)\n",
            "Requirement already satisfied: nvidia-cublas-cu11==11.10.3.66 in /usr/local/lib/python3.10/dist-packages (from torch==2.0.1->arelight==0.24.0) (11.10.3.66)\n",
            "Requirement already satisfied: nvidia-cufft-cu11==10.9.0.58 in /usr/local/lib/python3.10/dist-packages (from torch==2.0.1->arelight==0.24.0) (10.9.0.58)\n",
            "Requirement already satisfied: nvidia-curand-cu11==10.2.10.91 in /usr/local/lib/python3.10/dist-packages (from torch==2.0.1->arelight==0.24.0) (10.2.10.91)\n",
            "Requirement already satisfied: nvidia-cusolver-cu11==11.4.0.1 in /usr/local/lib/python3.10/dist-packages (from torch==2.0.1->arelight==0.24.0) (11.4.0.1)\n",
            "Requirement already satisfied: nvidia-cusparse-cu11==11.7.4.91 in /usr/local/lib/python3.10/dist-packages (from torch==2.0.1->arelight==0.24.0) (11.7.4.91)\n",
            "Requirement already satisfied: nvidia-nccl-cu11==2.14.3 in /usr/local/lib/python3.10/dist-packages (from torch==2.0.1->arelight==0.24.0) (2.14.3)\n",
            "Requirement already satisfied: nvidia-nvtx-cu11==11.7.91 in /usr/local/lib/python3.10/dist-packages (from torch==2.0.1->arelight==0.24.0) (11.7.91)\n",
            "Requirement already satisfied: triton==2.0.0 in /usr/local/lib/python3.10/dist-packages (from torch==2.0.1->arelight==0.24.0) (2.0.0)\n",
            "Requirement already satisfied: huggingface-hub<1.0,>=0.10.0 in /usr/local/lib/python3.10/dist-packages (from transformers==4.24.0->arelight==0.24.0) (0.19.4)\n",
            "Requirement already satisfied: packaging>=20.0 in /usr/local/lib/python3.10/dist-packages (from transformers==4.24.0->arelight==0.24.0) (23.2)\n",
            "Requirement already satisfied: pyyaml>=5.1 in /usr/local/lib/python3.10/dist-packages (from transformers==4.24.0->arelight==0.24.0) (6.0.1)\n",
            "Requirement already satisfied: tokenizers!=0.11.3,<0.14,>=0.11.1 in /usr/local/lib/python3.10/dist-packages (from transformers==4.24.0->arelight==0.24.0) (0.13.3)\n",
            "Requirement already satisfied: certifi in /usr/local/lib/python3.10/dist-packages (from httpx==0.13.3->googletrans==3.1.0a0->arelight==0.24.0) (2023.7.22)\n",
            "Requirement already satisfied: hstspreload in /usr/local/lib/python3.10/dist-packages (from httpx==0.13.3->googletrans==3.1.0a0->arelight==0.24.0) (2023.1.1)\n",
            "Requirement already satisfied: sniffio in /usr/local/lib/python3.10/dist-packages (from httpx==0.13.3->googletrans==3.1.0a0->arelight==0.24.0) (1.3.0)\n",
            "Requirement already satisfied: chardet==3.* in /usr/local/lib/python3.10/dist-packages (from httpx==0.13.3->googletrans==3.1.0a0->arelight==0.24.0) (3.0.4)\n",
            "Requirement already satisfied: idna==2.* in /usr/local/lib/python3.10/dist-packages (from httpx==0.13.3->googletrans==3.1.0a0->arelight==0.24.0) (2.10)\n",
            "Requirement already satisfied: rfc3986<2,>=1.3 in /usr/local/lib/python3.10/dist-packages (from httpx==0.13.3->googletrans==3.1.0a0->arelight==0.24.0) (1.5.0)\n",
            "Requirement already satisfied: httpcore==0.9.* in /usr/local/lib/python3.10/dist-packages (from httpx==0.13.3->googletrans==3.1.0a0->arelight==0.24.0) (0.9.1)\n",
            "Requirement already satisfied: setuptools in /usr/local/lib/python3.10/dist-packages (from nvidia-cublas-cu11==11.10.3.66->torch==2.0.1->arelight==0.24.0) (67.7.2)\n",
            "Requirement already satisfied: cmake in /usr/local/lib/python3.10/dist-packages (from triton==2.0.0->torch==2.0.1->arelight==0.24.0) (3.27.7)\n",
            "Requirement already satisfied: lit in /usr/local/lib/python3.10/dist-packages (from triton==2.0.0->torch==2.0.1->arelight==0.24.0) (17.0.5)\n",
            "Requirement already satisfied: h11<0.10,>=0.8 in /usr/local/lib/python3.10/dist-packages (from httpcore==0.9.*->httpx==0.13.3->googletrans==3.1.0a0->arelight==0.24.0) (0.9.0)\n",
            "Requirement already satisfied: h2==3.* in /usr/local/lib/python3.10/dist-packages (from httpcore==0.9.*->httpx==0.13.3->googletrans==3.1.0a0->arelight==0.24.0) (3.2.0)\n",
            "Requirement already satisfied: hyperframe<6,>=5.2.0 in /usr/local/lib/python3.10/dist-packages (from h2==3.*->httpcore==0.9.*->httpx==0.13.3->googletrans==3.1.0a0->arelight==0.24.0) (5.2.0)\n",
            "Requirement already satisfied: hpack<4,>=3.0 in /usr/local/lib/python3.10/dist-packages (from h2==3.*->httpcore==0.9.*->httpx==0.13.3->googletrans==3.1.0a0->arelight==0.24.0) (3.0.0)\n",
            "Requirement already satisfied: starlette==0.22.0 in /usr/local/lib/python3.10/dist-packages (from fastapi<=0.89.1,>=0.47.0->deeppavlov==1.3.0->arelight==0.24.0) (0.22.0)\n",
            "Requirement already satisfied: anyio<5,>=3.4.0 in /usr/local/lib/python3.10/dist-packages (from starlette==0.22.0->fastapi<=0.89.1,>=0.47.0->deeppavlov==1.3.0->arelight==0.24.0) (3.7.1)\n",
            "Requirement already satisfied: fsspec>=2023.5.0 in /usr/local/lib/python3.10/dist-packages (from huggingface-hub<1.0,>=0.10.0->transformers==4.24.0->arelight==0.24.0) (2023.6.0)\n",
            "Requirement already satisfied: python-dateutil>=2.8.1 in /usr/local/lib/python3.10/dist-packages (from pandas<1.6.0,>=1.0.0->deeppavlov==1.3.0->arelight==0.24.0) (2.8.2)\n",
            "Requirement already satisfied: pytz>=2020.1 in /usr/local/lib/python3.10/dist-packages (from pandas<1.6.0,>=1.0.0->deeppavlov==1.3.0->arelight==0.24.0) (2023.3.post1)\n",
            "Requirement already satisfied: charset-normalizer<4,>=2 in /usr/local/lib/python3.10/dist-packages (from requests<3.0.0,>=2.19.0->deeppavlov==1.3.0->arelight==0.24.0) (3.3.2)\n",
            "Requirement already satisfied: urllib3<3,>=1.21.1 in /usr/local/lib/python3.10/dist-packages (from requests<3.0.0,>=2.19.0->deeppavlov==1.3.0->arelight==0.24.0) (2.0.7)\n",
            "Requirement already satisfied: threadpoolctl>=2.0.0 in /usr/local/lib/python3.10/dist-packages (from scikit-learn<1.1.0,>=0.24->deeppavlov==1.3.0->arelight==0.24.0) (3.2.0)\n",
            "Requirement already satisfied: MarkupSafe>=2.0 in /usr/local/lib/python3.10/dist-packages (from jinja2->torch==2.0.1->arelight==0.24.0) (2.1.3)\n",
            "Requirement already satisfied: mpmath>=0.19 in /usr/local/lib/python3.10/dist-packages (from sympy->torch==2.0.1->arelight==0.24.0) (1.3.0)\n",
            "Requirement already satisfied: six>=1.5 in /usr/local/lib/python3.10/dist-packages (from python-dateutil>=2.8.1->pandas<1.6.0,>=1.0.0->deeppavlov==1.3.0->arelight==0.24.0) (1.16.0)\n",
            "Requirement already satisfied: exceptiongroup in /usr/local/lib/python3.10/dist-packages (from anyio<5,>=3.4.0->starlette==0.22.0->fastapi<=0.89.1,>=0.47.0->deeppavlov==1.3.0->arelight==0.24.0) (1.1.3)\n",
            "Building wheels for collected packages: arelight\n",
            "  Building wheel for arelight (setup.py) ... \u001b[?25l\u001b[?25hdone\n",
            "  Created wheel for arelight: filename=arelight-0.24.0-py3-none-any.whl size=104372 sha256=17e45dde2fde6abf2ccc4a6d309a29be4c8b502f30fc6dc97d66a53b5a493644\n",
            "  Stored in directory: /tmp/pip-ephem-wheel-cache-g25eqgog/wheels/ce/25/cf/0ab6536cfe22fa393d3745fa238efa7c8b65182c7add560dda\n",
            "Successfully built arelight\n",
            "Installing collected packages: arelight\n",
            "Successfully installed arelight-0.24.0\n"
          ]
        }
      ],
      "source": [
        "pip install git+https://github.com/nicolay-r/arelight@v0.24.0"
      ]
    },
    {
      "cell_type": "markdown",
      "source": [
        "Download Example Twitter messages"
      ],
      "metadata": {
        "id": "m1i5wVBCuzlo"
      }
    },
    {
      "cell_type": "code",
      "source": [
        "!curl -L -o input.csv https://www.dropbox.com/scl/fi/bsx7dojgxl0jv8fzwzvtq/tweets_boris-johnson.csv?rlkey=ij7cl90nh3qs6qj0hdod5osg9&dl=1"
      ],
      "metadata": {
        "colab": {
          "base_uri": "https://localhost:8080/"
        },
        "id": "wY46TMYMuoOg",
        "outputId": "c098fde9-a8d2-4fdc-ce39-401f62eccd54"
      },
      "execution_count": null,
      "outputs": [
        {
          "output_type": "stream",
          "name": "stdout",
          "text": [
            "  % Total    % Received % Xferd  Average Speed   Time    Time     Time  Current\n",
            "                                 Dload  Upload   Total   Spent    Left  Speed\n",
            "100   235    0   235    0     0    229      0 --:--:--  0:00:01 --:--:--   229\n",
            "100  243k  100  243k    0     0   156k      0  0:00:01  0:00:01 --:--:--  670k\n"
          ]
        }
      ]
    },
    {
      "cell_type": "code",
      "source": [
        "%cd /content/\n",
        "!python -m arelight.run.infer  \\\n",
        "    --sampling-framework \"arekit\" \\\n",
        "      --ner-framework=\"transformers\" \\\n",
        "      --ner-model-name \"Babelscape/wikineural-multilingual-ner\" \\\n",
        "      --translate-framework \"googletrans\" \\\n",
        "      --translate-text \"en:ru\" \\\n",
        "    --terms-per-context 50 \\\n",
        "    --sentence-parser \"nltk_en\" \\\n",
        "    --tokens-per-context 128 \\\n",
        "    --bert-framework \"opennre\" \\\n",
        "      --batch-size 64 \\\n",
        "      --pretrained-bert \"DeepPavlov/rubert-base-cased\" \\\n",
        "      --bert-torch-checkpoint \"ra4-rsr1_DeepPavlov-rubert-base-cased_cls.pth.tar\" \\\n",
        "    --backend \"d3js_graphs\" \\\n",
        "    --device-type \"cuda\" \\\n",
        "    -o \"output\" \\\n",
        "    --host 8000 \\\n",
        "    --docs-limit 50 \\\n",
        "    --from-files \"input.csv\""
      ],
      "metadata": {
        "id": "XvrNI3AlW2rk",
        "colab": {
          "base_uri": "https://localhost:8080/"
        },
        "outputId": "0a48e552-eaf5-45d2-e13d-2febdf3a43cf"
      },
      "execution_count": null,
      "outputs": [
        {
          "output_type": "stream",
          "name": "stdout",
          "text": [
            "/content\n",
            "2023-11-21 18:59:49.874477: E tensorflow/compiler/xla/stream_executor/cuda/cuda_dnn.cc:9342] Unable to register cuDNN factory: Attempting to register factory for plugin cuDNN when one has already been registered\n",
            "2023-11-21 18:59:49.874529: E tensorflow/compiler/xla/stream_executor/cuda/cuda_fft.cc:609] Unable to register cuFFT factory: Attempting to register factory for plugin cuFFT when one has already been registered\n",
            "2023-11-21 18:59:49.874570: E tensorflow/compiler/xla/stream_executor/cuda/cuda_blas.cc:1518] Unable to register cuBLAS factory: Attempting to register factory for plugin cuBLAS when one has already been registered\n",
            "2023-11-21 18:59:49.882498: I tensorflow/core/platform/cpu_feature_guard.cc:182] This TensorFlow binary is optimized to use available CPU instructions in performance-critical operations.\n",
            "To enable the following instructions: AVX2 FMA, in other operations, rebuild TensorFlow with the appropriate compiler flags.\n",
            "DEBUG:tensorflow:Falling back to TensorFlow client; we recommended you install the Cloud TPU client directly with pip install cloud-tpu-client.\n",
            "2023-11-21 18:59:51.058103: W tensorflow/compiler/tf2tensorrt/utils/py_utils.cc:38] TF-TRT Warning: Could not find TensorRT\n",
            "DEBUG:h5py._conv:Creating converter from 7 to 5\n",
            "DEBUG:h5py._conv:Creating converter from 5 to 7\n",
            "DEBUG:h5py._conv:Creating converter from 7 to 5\n",
            "DEBUG:h5py._conv:Creating converter from 5 to 7\n",
            "DEBUG:jaxlib.mlir._mlir_libs:Initializing MLIR with module: _site_initialize_0\n",
            "DEBUG:jaxlib.mlir._mlir_libs:Registering dialects from initializer <module 'jaxlib.mlir._mlir_libs._site_initialize_0' from '/usr/local/lib/python3.10/dist-packages/jaxlib/mlir/_mlir_libs/_site_initialize_0.so'>\n",
            "DEBUG:jax._src.path:etils.epath found. Using etils.epath for file I/O.\n",
            "INFO:numexpr.utils:NumExpr defaulting to 2 threads.\n",
            "DEBUG:urllib3.connectionpool:Starting new HTTPS connection (1): huggingface.co:443\n",
            "DEBUG:urllib3.connectionpool:https://huggingface.co:443 \"HEAD /Babelscape/wikineural-multilingual-ner/resolve/main/config.json HTTP/1.1\" 200 0\n",
            "DEBUG:urllib3.connectionpool:https://huggingface.co:443 \"HEAD /Babelscape/wikineural-multilingual-ner/resolve/main/tokenizer_config.json HTTP/1.1\" 200 0\n",
            "sample [DataType.Test]: 158it [00:15,  9.91it/s, docs_seen=50, doc_now=input.csv:49]\n",
            "Some weights of the model checkpoint at DeepPavlov/rubert-base-cased were not used when initializing BertModel: ['cls.predictions.bias', 'cls.seq_relationship.weight', 'cls.predictions.transform.LayerNorm.bias', 'cls.predictions.transform.dense.bias', 'cls.predictions.decoder.weight', 'cls.predictions.transform.dense.weight', 'cls.predictions.transform.LayerNorm.weight', 'cls.seq_relationship.bias', 'cls.predictions.decoder.bias']\n",
            "- This IS expected if you are initializing BertModel from the checkpoint of a model trained on another task or with another architecture (e.g. initializing a BertForSequenceClassification model from a BertForPreTraining model).\n",
            "- This IS NOT expected if you are initializing BertModel from the checkpoint of a model that you expect to be exactly identical (initializing a BertForSequenceClassification model from a BertForSequenceClassification model).\n",
            "/usr/local/lib/python3.10/dist-packages/torch/utils/data/dataloader.py:560: UserWarning: This DataLoader will create 8 worker processes in total. Our suggested max number of worker in current system is 2, which is smaller than what this DataLoader is going to create. Please be aware that excessive worker creation might get DataLoader running slow or even freeze, lower the worker number to avoid potential slowness/freeze if necessary.\n",
            "  warnings.warn(_create_warning_msg(\n",
            "output/input.csv-predict.tsv.gz\n",
            "Writing output: 100%|███████████████████████████████████████████████████████████████| 158/158 [00:01<00:00, 80.98rows/s]\n",
            "\n",
            "Dataset is completed and saved in the following locations:\n",
            "- output/radial/input.csv\n",
            "- output/force/input.csv\n",
            "- output/descriptions/input.csv\n",
            "To host, launch manually: cd output && python -m http.server 8000\n"
          ]
        }
      ]
    }
  ]
}